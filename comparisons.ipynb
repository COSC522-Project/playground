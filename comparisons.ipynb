{
 "cells": [
  {
   "cell_type": "markdown",
   "metadata": {},
   "source": [
    "# Comparisons\n",
    "This notebook will produce a few plots for use in the presentation and report."
   ]
  },
  {
   "cell_type": "markdown",
   "metadata": {},
   "source": [
    "## Imports "
   ]
  },
  {
   "cell_type": "code",
   "execution_count": 1,
   "metadata": {},
   "outputs": [],
   "source": [
    "import numpy as np\n",
    "import pandas as pd\n",
    "import matplotlib.pyplot as plt\n",
    "from tqdm import tqdm\n",
    "\n",
    "import sklearn\n",
    "from sklearn import preprocessing\n",
    "from sklearn.feature_extraction.text import CountVectorizer, TfidfVectorizer\n",
    "from sklearn.decomposition import TruncatedSVD\n",
    "from sklearn.model_selection import train_test_split, cross_val_score\n",
    "from sklearn.metrics import accuracy_score, confusion_matrix\n",
    "\n",
    "from py.classifiers import classify"
   ]
  },
  {
   "cell_type": "markdown",
   "metadata": {},
   "source": [
    "## Load data"
   ]
  },
  {
   "cell_type": "code",
   "execution_count": 12,
   "metadata": {},
   "outputs": [],
   "source": [
    "data = pd.read_csv('./data/mbti_1.csv')\n",
    "docs = list(data['posts'])\n",
    "personality_types = pd.unique(data['type'])\n",
    "\n",
    "data = data.replace({ptype: i for i, ptype in enumerate(personality_types)})\n",
    "y = data['type'].values"
   ]
  },
  {
   "cell_type": "markdown",
   "metadata": {},
   "source": [
    "## Classifier comparison"
   ]
  },
  {
   "cell_type": "code",
   "execution_count": 3,
   "metadata": {},
   "outputs": [],
   "source": [
    "method_kwargs_list = [\n",
    "    ('knn', dict(n_neighbors=100)),\n",
    "    ('neural_network', dict()),\n",
    "    ('decision_tree', dict()),\n",
    "    ('svm', dict(kernel='linear')),\n",
    "    ('kmeans', dict(n_clusters=16))\n",
    "]\n",
    "methods, kwargs = zip(*method_kwargs_list)"
   ]
  },
  {
   "cell_type": "code",
   "execution_count": 4,
   "metadata": {},
   "outputs": [],
   "source": [
    "def reduce_dim(X_tr, X_te, n):\n",
    "    svd = TruncatedSVD(n_components=n, n_iter=5, random_state=42)\n",
    "    svd.fit(X_tr)\n",
    "    return svd.transform(X_tr), svd.transform(X_te)\n",
    "\n",
    "def compare_methods(analyzer='word', ngram_range=(1, 1), weight='raw', ndims_keep=1000):\n",
    "    \n",
    "    print('Initializing ...')\n",
    "    if weight == 'raw':\n",
    "        vec = CountVectorizer(input='content', analyzer=analyzer, ngram_range=ngram_range)\n",
    "    if weight == 'tf':\n",
    "        vec = TfidfVectorizer(input='content', analyzer=analyzer, ngram_range=ngram_range, use_idf=False)\n",
    "    elif weight == 'tf-idf':\n",
    "        vec = TfidfVectorizer(input='content', analyzer=analyzer, ngram_range=ngram_range, use_idf=True)\n",
    "        \n",
    "    X = vec.fit_transform(docs)\n",
    "    X_tr, X_te, y_tr, y_te = train_test_split(X, y, test_size=0.2, random_state=42)\n",
    "    if ndims_keep != 'all':\n",
    "        X_tr, X_te = reduce_dim(X_tr, X_te, ndims_keep)\n",
    "        \n",
    "    accuracies, runtimes = [], []\n",
    "    for (method, kwargs) in method_kwargs_list:\n",
    "        print('Running {} ...'.format(method))\n",
    "        y_pred, runtime = classify(X_tr, y_tr, X_te, method, **kwargs)\n",
    "        accuracy = accuracy_score(y_pred, y_te)\n",
    "        accuracies.append(accuracy)\n",
    "        runtimes.append(runtime)\n",
    "        print('    accuracy = {:.4f}'.format(accuracy))\n",
    "        print('    runtime = {:.2f} seconds'.format(runtime))\n",
    "        \n",
    "    return accuracies, runtimes"
   ]
  },
  {
   "cell_type": "code",
   "execution_count": 5,
   "metadata": {},
   "outputs": [
    {
     "name": "stdout",
     "output_type": "stream",
     "text": [
      "Initializing ...\n",
      "Running knn ...\n",
      "    accuracy = 0.4029\n",
      "    runtime = 18.97 seconds\n",
      "Running neural_network ...\n"
     ]
    },
    {
     "name": "stderr",
     "output_type": "stream",
     "text": [
      "/opt/anaconda3/lib/python3.8/site-packages/sklearn/neural_network/_multilayer_perceptron.py:582: ConvergenceWarning: Stochastic Optimizer: Maximum iterations (200) reached and the optimization hasn't converged yet.\n",
      "  warnings.warn(\n"
     ]
    },
    {
     "name": "stdout",
     "output_type": "stream",
     "text": [
      "    accuracy = 0.6161\n",
      "    runtime = 21.50 seconds\n",
      "Running decision_tree ...\n",
      "    accuracy = 0.3303\n",
      "    runtime = 10.27 seconds\n",
      "Running svm ...\n",
      "    accuracy = 0.6138\n",
      "    runtime = 85.13 seconds\n",
      "Running kmeans ...\n",
      "    accuracy = 0.0761\n",
      "    runtime = 5.34 seconds\n"
     ]
    }
   ],
   "source": [
    "ngram_range = (1, 1)\n",
    "analyzer = 'word'\n",
    "ndims_keep = 1000\n",
    "weight = 'tf-idf'\n",
    "\n",
    "accuracies, runtimes = compare_methods(analyzer, ngram_range, weight, ndims_keep)"
   ]
  },
  {
   "cell_type": "code",
   "execution_count": 11,
   "metadata": {},
   "outputs": [
    {
     "data": {
      "image/png": "[encoded data removed]",
      "text/plain": [
       "<Figure size 576x216 with 1 Axes>"
      ]
     },
     "metadata": {
      "needs_background": "light"
     },
     "output_type": "display_data"
    }
   ],
   "source": [
    "fig, ax = plt.subplots(figsize=(8, 3))\n",
    "ax.bar(methods, accuracies, zorder=2)\n",
    "ax.grid(axis='y', zorder=0)\n",
    "ax.set_xticklabels(['KNN', 'BPNN', 'Tree', 'SVM', 'K-means'], fontsize='large')\n",
    "ax.set_title('Method comparison', fontsize='x-large')\n",
    "ax.set_ylabel('Accuracy', fontsize='large')\n",
    "plt.savefig('figures/method_comparison.png', dpi=300)"
   ]
  },
  {
   "cell_type": "markdown",
   "metadata": {},
   "source": [
    "## KNN: accuracy vs k"
   ]
  },
  {
   "cell_type": "code",
   "execution_count": 27,
   "metadata": {},
   "outputs": [],
   "source": [
    "def extract_ngrams(docs, n):\n",
    "    \"\"\"Extrac ngrams from documents. If n=1, words are extracted.\"\"\"\n",
    "    analyzer = 'word' if n == 1 else 'char'\n",
    "    ngram_range = (n, n)\n",
    "    vec = TfidfVectorizer(input='content', analyzer=analyzer, ngram_range=ngram_range, use_idf=True)\n",
    "    X = vec.fit_transform(docs)\n",
    "    return X"
   ]
  },
  {
   "cell_type": "code",
   "execution_count": 29,
   "metadata": {},
   "outputs": [
    {
     "name": "stdout",
     "output_type": "stream",
     "text": [
      "n = 1\n"
     ]
    },
    {
     "name": "stderr",
     "output_type": "stream",
     "text": [
      "100%|██████████| 29/29 [00:58<00:00,  2.03s/it]\n"
     ]
    },
    {
     "name": "stdout",
     "output_type": "stream",
     "text": [
      "n = 2\n"
     ]
    },
    {
     "name": "stderr",
     "output_type": "stream",
     "text": [
      "100%|██████████| 29/29 [00:59<00:00,  2.06s/it]\n"
     ]
    },
    {
     "name": "stdout",
     "output_type": "stream",
     "text": [
      "n = 3\n"
     ]
    },
    {
     "name": "stderr",
     "output_type": "stream",
     "text": [
      "100%|██████████| 29/29 [01:00<00:00,  2.07s/it]\n"
     ]
    },
    {
     "name": "stdout",
     "output_type": "stream",
     "text": [
      "n = 4\n"
     ]
    },
    {
     "name": "stderr",
     "output_type": "stream",
     "text": [
      "100%|██████████| 29/29 [00:59<00:00,  2.05s/it]\n"
     ]
    },
    {
     "name": "stdout",
     "output_type": "stream",
     "text": [
      "n = 5\n"
     ]
    },
    {
     "name": "stderr",
     "output_type": "stream",
     "text": [
      "100%|██████████| 29/29 [01:00<00:00,  2.08s/it]\n"
     ]
    }
   ],
   "source": [
    "ndims_keep = 100\n",
    "n_list = list(range(1, 6)) # for ngrams\n",
    "k_vals = [1, 2, 3, 4, 5, 6, 7, 8, 9] + list(range(10, 210, 10))\n",
    "accuracies = np.zeros((len(n_list), len(k_vals)))\n",
    "\n",
    "for i, n in enumerate(n_list):\n",
    "    print('n =', n)\n",
    "    X = extract_ngrams(docs, n)\n",
    "    X_tr, X_te, y_tr, y_te = train_test_split(X, y, test_size=0.2, random_state=42)\n",
    "    X_tr, X_te = reduce_dim(X_tr, X_te, ndims_keep)\n",
    "    for j, k in enumerate(tqdm(k_vals)):\n",
    "        y_pred, _ = classify(X_tr, y_tr, X_te, 'knn', n_neighbors=k)\n",
    "        accuracies[i, j] = accuracy_score(y_pred, y_te)"
   ]
  },
  {
   "cell_type": "code",
   "execution_count": 31,
   "metadata": {},
   "outputs": [
    {
     "data": {
      "image/png": "[encoded data removed]",
      "text/plain": [
       "<Figure size 432x288 with 1 Axes>"
      ]
     },
     "metadata": {
      "needs_background": "light"
     },
     "output_type": "display_data"
    }
   ],
   "source": [
    "fig, ax = plt.subplots(tight_layout=True)\n",
    "for accs in accuracies:\n",
    "    ax.plot(k_vals, accs, '-o', lw=2)\n",
    "ax.grid()\n",
    "ax.legend(['words', 'n2', 'n3', 'n4', 'n5'], loc=(1.05, 0), fontsize='large')\n",
    "ax.set_ylabel('Accuracy', fontsize='large')\n",
    "ax.set_xlabel(r'$k$', fontsize='large')\n",
    "ax.set_title(r'KNN accuracy vs. $k$', fontsize='x-large');\n",
    "plt.savefig('figures/knn_acc')"
   ]
  },
  {
   "cell_type": "code",
   "execution_count": null,
   "metadata": {},
   "outputs": [],
   "source": []
  }
 ],
 "metadata": {
  "kernelspec": {
   "display_name": "Python 3",
   "language": "python",
   "name": "python3"
  },
  "language_info": {
   "codemirror_mode": {
    "name": "ipython",
    "version": 3
   },
   "file_extension": ".py",
   "mimetype": "text/x-python",
   "name": "python",
   "nbconvert_exporter": "python",
   "pygments_lexer": "ipython3",
   "version": "3.8.3"
  }
 },
 "nbformat": 4,
 "nbformat_minor": 4
}
