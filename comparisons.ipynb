{
 "cells": [
  {
   "cell_type": "markdown",
   "metadata": {},
   "source": [
    "This notebook will produce plots for use in the presentation and report."
   ]
  },
  {
   "cell_type": "markdown",
   "metadata": {},
   "source": [
    "# Imports "
   ]
  },
  {
   "cell_type": "code",
   "execution_count": 53,
   "metadata": {},
   "outputs": [],
   "source": [
    "import numpy as np\n",
    "import pandas as pd\n",
    "import matplotlib.pyplot as plt\n",
    "from tqdm import tqdm\n",
    "\n",
    "import sklearn\n",
    "from sklearn import preprocessing\n",
    "from sklearn.feature_extraction.text import CountVectorizer, TfidfVectorizer\n",
    "from sklearn.feature_selection import chi2\n",
    "from sklearn.model_selection import train_test_split, cross_val_score\n",
    "from sklearn.metrics import accuracy_score, confusion_matrix\n",
    "\n",
    "from py.classifiers import classify"
   ]
  },
  {
   "cell_type": "markdown",
   "metadata": {},
   "source": [
    "# Load data"
   ]
  },
  {
   "cell_type": "code",
   "execution_count": 3,
   "metadata": {},
   "outputs": [],
   "source": [
    "data = pd.read_csv('./data/mbti_1.csv')\n",
    "data = data.replace({c: i for i, c in enumerate(pd.unique(data['type']))})\n",
    "\n",
    "docs = list(data['posts'])\n",
    "y = data['type'].values"
   ]
  },
  {
   "cell_type": "markdown",
   "metadata": {},
   "source": [
    "# Classifier comparison"
   ]
  },
  {
   "cell_type": "code",
   "execution_count": 5,
   "metadata": {},
   "outputs": [],
   "source": [
    "method_kwargs_list = [\n",
    "    ('knn', dict(n_neighbors=100)),\n",
    "    ('neural_network', dict()),\n",
    "    ('decision_tree', dict()),\n",
    "    ('svm', dict(kernel='linear')),\n",
    "    ('kmeans', dict(n_clusters=16))\n",
    "]\n",
    "methods, kwargs = zip(*method_kwargs_list)"
   ]
  },
  {
   "cell_type": "code",
   "execution_count": 12,
   "metadata": {},
   "outputs": [],
   "source": [
    "def compare_methods(analyzer='word', ngram_range=(1, 1), weight='raw', ndims_keep=10000):\n",
    "    \n",
    "    print('Initializing ...')\n",
    "    if weight == 'raw':\n",
    "        vec = CountVectorizer(input='content', analyzer=analyzer, ngram_range=ngram_range)\n",
    "    if weight == 'tf':\n",
    "        vec = TfidfVectorizer(input='content', analyzer=analyzer, ngram_range=ngram_range, use_idf=False)\n",
    "    elif weight == 'tf-idf':\n",
    "        vec = TfidfVectorizer(input='content', analyzer=analyzer, ngram_range=ngram_range, use_idf=True)\n",
    "    X = vec.fit_transform(docs)\n",
    "    if ndims_keep != 'all':\n",
    "        X = SelectKBest(chi2, k=ndims_keep).fit_transform(X, y)\n",
    "    X_train, X_test, y_train, y_test = train_test_split(X, y, test_size=0.2, random_state=42)\n",
    "\n",
    "    accuracies, runtimes = [], []\n",
    "    for (method, kwargs) in method_kwargs_list:\n",
    "        print('Running {} ...'.format(method))\n",
    "        y_pred, runtime = classify(X_train, y_train, X_test, method, **kwargs)\n",
    "        accuracy = accuracy_score(y_pred, y_test)\n",
    "        accuracies.append(accuracy)\n",
    "        runtimes.append(runtime)\n",
    "        print('    accuracy = {:.4f}'.format(accuracy))\n",
    "        print('    runtime = {:.2f} seconds'.format(runtime))\n",
    "        \n",
    "    return accuracies, runtimes"
   ]
  },
  {
   "cell_type": "code",
   "execution_count": 7,
   "metadata": {},
   "outputs": [
    {
     "name": "stdout",
     "output_type": "stream",
     "text": [
      "Initializing ...\n",
      "Running knn ...\n",
      "    accuracy = 0.4934\n",
      "    runtime = 0.92 seconds\n",
      "Running neural_network ...\n"
     ]
    },
    {
     "name": "stderr",
     "output_type": "stream",
     "text": [
      "/opt/anaconda3/lib/python3.8/site-packages/sklearn/neural_network/_multilayer_perceptron.py:582: ConvergenceWarning: Stochastic Optimizer: Maximum iterations (200) reached and the optimization hasn't converged yet.\n",
      "  warnings.warn(\n"
     ]
    },
    {
     "name": "stdout",
     "output_type": "stream",
     "text": [
      "    accuracy = 0.6415\n",
      "    runtime = 76.20 seconds\n",
      "Running decision_tree ...\n",
      "    accuracy = 0.4870\n",
      "    runtime = 1.39 seconds\n",
      "Running svm ...\n",
      "    accuracy = 0.5856\n",
      "    runtime = 20.89 seconds\n",
      "Running kmeans ...\n",
      "    accuracy = 0.0524\n",
      "    runtime = 2.55 seconds\n"
     ]
    }
   ],
   "source": [
    "ngram_range = (1, 1)\n",
    "analyzer = 'word'\n",
    "ndims_keep = 5000\n",
    "weight = 'tf-idf'\n",
    "\n",
    "accuracies, runtimes = compare_methods(analyzer, ngram_range, weight, ndims_keep)"
   ]
  },
  {
   "cell_type": "code",
   "execution_count": 10,
   "metadata": {},
   "outputs": [
    {
     "data": {
      "text/plain": [
       "Text(0, 0.5, 'Accuracy')"
      ]
     },
     "execution_count": 10,
     "metadata": {},
     "output_type": "execute_result"
    },
    {
     "data": {
      "image/png": "[encoded data removed]",
      "text/plain": [
       "<Figure size 576x216 with 1 Axes>"
      ]
     },
     "metadata": {
      "needs_background": "light"
     },
     "output_type": "display_data"
    }
   ],
   "source": [
    "fig, ax = plt.subplots(figsize=(8, 3))\n",
    "ax.bar(methods, accuracies)\n",
    "ax.grid(axis='y', zorder=0)\n",
    "ax.set_title('Method comparison')\n",
    "ax.set_ylabel('Accuracy');"
   ]
  },
  {
   "cell_type": "markdown",
   "metadata": {},
   "source": [
    "# Feature comparison"
   ]
  },
  {
   "cell_type": "code",
   "execution_count": 15,
   "metadata": {},
   "outputs": [
    {
     "name": "stdout",
     "output_type": "stream",
     "text": [
      "word\n",
      "Initializing ...\n",
      "Running knn ...\n",
      "    accuracy = 0.4934\n",
      "    runtime = 0.91 seconds\n",
      "Running neural_network ...\n"
     ]
    },
    {
     "name": "stderr",
     "output_type": "stream",
     "text": [
      "/opt/anaconda3/lib/python3.8/site-packages/sklearn/neural_network/_multilayer_perceptron.py:582: ConvergenceWarning: Stochastic Optimizer: Maximum iterations (200) reached and the optimization hasn't converged yet.\n",
      "  warnings.warn(\n"
     ]
    },
    {
     "name": "stdout",
     "output_type": "stream",
     "text": [
      "    accuracy = 0.6352\n",
      "    runtime = 77.09 seconds\n",
      "Running decision_tree ...\n",
      "    accuracy = 0.4893\n",
      "    runtime = 1.44 seconds\n",
      "Running svm ...\n",
      "    accuracy = 0.5856\n",
      "    runtime = 21.07 seconds\n",
      "Running kmeans ...\n",
      "    accuracy = 0.0369\n",
      "    runtime = 2.45 seconds\n",
      "\n",
      "n2\n",
      "Initializing ...\n",
      "Running knn ...\n",
      "    accuracy = 0.5383\n",
      "    runtime = 0.36 seconds\n",
      "Running neural_network ...\n"
     ]
    },
    {
     "name": "stderr",
     "output_type": "stream",
     "text": [
      "/opt/anaconda3/lib/python3.8/site-packages/sklearn/neural_network/_multilayer_perceptron.py:582: ConvergenceWarning: Stochastic Optimizer: Maximum iterations (200) reached and the optimization hasn't converged yet.\n",
      "  warnings.warn(\n"
     ]
    },
    {
     "name": "stdout",
     "output_type": "stream",
     "text": [
      "    accuracy = 0.5856\n",
      "    runtime = 73.48 seconds\n",
      "Running decision_tree ...\n",
      "    accuracy = 0.4294\n",
      "    runtime = 0.36 seconds\n",
      "Running svm ...\n",
      "    accuracy = 0.2213\n",
      "    runtime = 2.95 seconds\n",
      "Running kmeans ...\n",
      "    accuracy = 0.0542\n",
      "    runtime = 0.89 seconds\n",
      "\n",
      "n3\n",
      "Initializing ...\n",
      "Running knn ...\n",
      "    accuracy = 0.2496\n",
      "    runtime = 0.26 seconds\n",
      "Running neural_network ...\n"
     ]
    },
    {
     "name": "stderr",
     "output_type": "stream",
     "text": [
      "/opt/anaconda3/lib/python3.8/site-packages/sklearn/neural_network/_multilayer_perceptron.py:582: ConvergenceWarning: Stochastic Optimizer: Maximum iterations (200) reached and the optimization hasn't converged yet.\n",
      "  warnings.warn(\n"
     ]
    },
    {
     "name": "stdout",
     "output_type": "stream",
     "text": [
      "    accuracy = 0.3504\n",
      "    runtime = 70.76 seconds\n",
      "Running decision_tree ...\n",
      "    accuracy = 0.3112\n",
      "    runtime = 0.13 seconds\n",
      "Running svm ...\n",
      "    accuracy = 0.2133\n",
      "    runtime = 1.08 seconds\n",
      "Running kmeans ...\n",
      "    accuracy = 0.1660\n",
      "    runtime = 0.34 seconds\n",
      "\n",
      "n4\n",
      "Initializing ...\n",
      "Running knn ...\n",
      "    accuracy = 0.1723\n",
      "    runtime = 0.43 seconds\n",
      "Running neural_network ...\n"
     ]
    },
    {
     "name": "stderr",
     "output_type": "stream",
     "text": [
      "/opt/anaconda3/lib/python3.8/site-packages/sklearn/neural_network/_multilayer_perceptron.py:582: ConvergenceWarning: Stochastic Optimizer: Maximum iterations (200) reached and the optimization hasn't converged yet.\n",
      "  warnings.warn(\n"
     ]
    },
    {
     "name": "stdout",
     "output_type": "stream",
     "text": [
      "    accuracy = 0.2190\n",
      "    runtime = 69.81 seconds\n",
      "Running decision_tree ...\n",
      "    accuracy = 0.2161\n",
      "    runtime = 0.07 seconds\n",
      "Running svm ...\n",
      "    accuracy = 0.2133\n",
      "    runtime = 0.72 seconds\n",
      "Running kmeans ...\n",
      "    accuracy = 0.1660\n",
      "    runtime = 0.29 seconds\n",
      "\n",
      "n5\n",
      "Initializing ...\n",
      "Running knn ...\n",
      "    accuracy = 0.1654\n",
      "    runtime = 0.26 seconds\n",
      "Running neural_network ...\n"
     ]
    },
    {
     "name": "stderr",
     "output_type": "stream",
     "text": [
      "/opt/anaconda3/lib/python3.8/site-packages/sklearn/neural_network/_multilayer_perceptron.py:582: ConvergenceWarning: Stochastic Optimizer: Maximum iterations (200) reached and the optimization hasn't converged yet.\n",
      "  warnings.warn(\n"
     ]
    },
    {
     "name": "stdout",
     "output_type": "stream",
     "text": [
      "    accuracy = 0.2156\n",
      "    runtime = 69.74 seconds\n",
      "Running decision_tree ...\n",
      "    accuracy = 0.2173\n",
      "    runtime = 0.07 seconds\n",
      "Running svm ...\n",
      "    accuracy = 0.2133\n",
      "    runtime = 0.71 seconds\n",
      "Running kmeans ...\n",
      "    accuracy = 0.1660\n",
      "    runtime = 0.27 seconds\n",
      "\n",
      "n6\n",
      "Initializing ...\n",
      "Running knn ...\n",
      "    accuracy = 0.2133\n",
      "    runtime = 0.29 seconds\n",
      "Running neural_network ...\n"
     ]
    },
    {
     "name": "stderr",
     "output_type": "stream",
     "text": [
      "/opt/anaconda3/lib/python3.8/site-packages/sklearn/neural_network/_multilayer_perceptron.py:582: ConvergenceWarning: Stochastic Optimizer: Maximum iterations (200) reached and the optimization hasn't converged yet.\n",
      "  warnings.warn(\n"
     ]
    },
    {
     "name": "stdout",
     "output_type": "stream",
     "text": [
      "    accuracy = 0.2144\n",
      "    runtime = 69.92 seconds\n",
      "Running decision_tree ...\n",
      "    accuracy = 0.2150\n",
      "    runtime = 0.06 seconds\n",
      "Running svm ...\n",
      "    accuracy = 0.2133\n",
      "    runtime = 0.70 seconds\n",
      "Running kmeans ...\n",
      "    accuracy = 0.1660\n",
      "    runtime = 0.28 seconds\n",
      "\n"
     ]
    }
   ],
   "source": [
    "ndims_keep = 5000\n",
    "weight = 'tf-idf'\n",
    "accuracies_list = {}\n",
    "runtimes_dict = {}\n",
    "\n",
    "for n in range(1, 7):\n",
    "    if n == 1:\n",
    "        analyzer == 'word'\n",
    "        key = 'word'\n",
    "    else:\n",
    "        analyzer == 'char'\n",
    "        key = 'n{}'.format(n)\n",
    "    print(key)\n",
    "    accuracies, runtimes = compare_methods(analyzer, (n, n), weight, ndims_keep)\n",
    "    accuracies_dict[key] = accuracies\n",
    "    runtimes_dict[key] = runtimes\n",
    "    print()"
   ]
  },
  {
   "cell_type": "code",
   "execution_count": 47,
   "metadata": {},
   "outputs": [
    {
     "data": {
      "image/png": "[encoded data removed]",
      "text/plain": [
       "<Figure size 432x288 with 1 Axes>"
      ]
     },
     "metadata": {
      "needs_background": "light"
     },
     "output_type": "display_data"
    }
   ],
   "source": [
    "accuracies_by_method = []\n",
    "keys = list(accuracies_dict.keys())\n",
    "\n",
    "fig, ax = plt.subplots()\n",
    "for i, method in enumerate(methods):\n",
    "    accs_by_method = [accuracies_dict[k][i] for k in accuracies_dict.keys()]\n",
    "    ax.plot(keys, accs_by_method, 'o-', label=method)\n",
    "ax.legend(framealpha=1)\n",
    "ax.grid(axis='x')\n",
    "ax.set_ylabel('Accuracy')\n",
    "ax.set_xlabel('Feature type')\n",
    "ax.set_title('Accuracy vs. feature type');"
   ]
  },
  {
   "cell_type": "markdown",
   "metadata": {},
   "source": [
    "# Effect of dimensionality reduction\n",
    "Plot the accuracy vs. number of dimensions kept for the different feature types. Should have 6 lines corresponding to word, n2, n3, n4, n5, n6. Similar to the above plot but with number of dimensions on the x axis and feature type in the legend."
   ]
  },
  {
   "cell_type": "code",
   "execution_count": null,
   "metadata": {},
   "outputs": [],
   "source": []
  },
  {
   "cell_type": "markdown",
   "metadata": {},
   "source": [
    "# KNN: accuracy vs $k$"
   ]
  },
  {
   "cell_type": "code",
   "execution_count": 55,
   "metadata": {},
   "outputs": [
    {
     "name": "stderr",
     "output_type": "stream",
     "text": [
      "100%|██████████| 11/11 [00:16<00:00,  1.54s/it]\n"
     ]
    }
   ],
   "source": [
    "k_vals = [10, 100, 200, 300, 400, 500, 600, 700, 800, 900, 1000]\n",
    "ndims_keep = 20000\n",
    "accuracies, runtimes = [], []\n",
    "\n",
    "vec = TfidfVectorizer(input='content', analyzer=analyzer, ngram_range=ngram_range, use_idf=True)\n",
    "X = vec.fit_transform(docs)\n",
    "X = SelectKBest(chi2, k=ndims_keep).fit_transform(X, y)\n",
    "X_train, X_test, y_train, y_test = train_test_split(X, y, test_size=0.2, random_state=42)\n",
    "\n",
    "for k in tqdm(k_vals):\n",
    "    y_pred, runtime = classify(X_train, y_train, X_test, 'knn', n_neighbors=k)\n",
    "    accuracy = accuracy_score(y_pred, y_test)\n",
    "    accuracies.append(accuracy)\n",
    "    runtimes.append(runtime)"
   ]
  },
  {
   "cell_type": "code",
   "execution_count": 58,
   "metadata": {},
   "outputs": [
    {
     "data": {
      "text/plain": [
       "Text(0.5, 1.0, 'KNN accuracy vs. $k$')"
      ]
     },
     "execution_count": 58,
     "metadata": {},
     "output_type": "execute_result"
    },
    {
     "data": {
      "image/png": "[encoded data removed]",
      "text/plain": [
       "<Figure size 432x288 with 1 Axes>"
      ]
     },
     "metadata": {
      "needs_background": "light"
     },
     "output_type": "display_data"
    }
   ],
   "source": [
    "fig, ax = plt.subplots()\n",
    "ax.plot(k_vals, accuracies, 'o')\n",
    "ax.set_ylabel('Accuracy')\n",
    "ax.set_xlabel('k')\n",
    "ax.set_title(r'KNN accuracy vs. $k$')"
   ]
  }
 ],
 "metadata": {
  "kernelspec": {
   "display_name": "Python 3",
   "language": "python",
   "name": "python3"
  },
  "language_info": {
   "codemirror_mode": {
    "name": "ipython",
    "version": 3
   },
   "file_extension": ".py",
   "mimetype": "text/x-python",
   "name": "python",
   "nbconvert_exporter": "python",
   "pygments_lexer": "ipython3",
   "version": "3.8.3"
  }
 },
 "nbformat": 4,
 "nbformat_minor": 4
}
