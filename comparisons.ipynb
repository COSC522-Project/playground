{
 "cells": [
  {
   "cell_type": "markdown",
   "metadata": {},
   "source": [
    "This notebook will produce plots for use in the presentation and report."
   ]
  },
  {
   "cell_type": "markdown",
   "metadata": {},
   "source": [
    "# Imports "
   ]
  },
  {
   "cell_type": "code",
   "execution_count": 6,
   "metadata": {},
   "outputs": [],
   "source": [
    "import numpy as np\n",
    "import pandas as pd\n",
    "import matplotlib.pyplot as plt\n",
    "from tqdm import tqdm\n",
    "\n",
    "import sklearn\n",
    "from sklearn import preprocessing\n",
    "from sklearn.feature_extraction.text import CountVectorizer, TfidfVectorizer\n",
    "from sklearn.feature_selection import chi2\n",
    "from sklearn.model_selection import train_test_split, cross_val_score\n",
    "from sklearn.metrics import accuracy_score, confusion_matrix\n",
    "\n",
    "from py.classifiers import classify"
   ]
  },
  {
   "cell_type": "markdown",
   "metadata": {},
   "source": [
    "# Load data"
   ]
  },
  {
   "cell_type": "code",
   "execution_count": 7,
   "metadata": {},
   "outputs": [],
   "source": [
    "data = pd.read_csv('./data/mbti_1.csv')\n",
    "docs = list(data['posts'])\n",
    "personality_types = pd.unique(data['type'])\n",
    "\n",
    "data = data.replace({ptype: i for i, ptype in enumerate(personality_types)})\n",
    "y = data['type'].values"
   ]
  },
  {
   "cell_type": "markdown",
   "metadata": {},
   "source": [
    "# Classifier comparison"
   ]
  },
  {
   "cell_type": "code",
   "execution_count": 8,
   "metadata": {},
   "outputs": [],
   "source": [
    "method_kwargs_list = [\n",
    "    ('knn', dict(n_neighbors=100)),\n",
    "    ('neural_network', dict()),\n",
    "    ('decision_tree', dict()),\n",
    "    ('svm', dict(kernel='linear')),\n",
    "    ('kmeans', dict(n_clusters=16))\n",
    "]\n",
    "methods, kwargs = zip(*method_kwargs_list)"
   ]
  },
  {
   "cell_type": "code",
   "execution_count": 12,
   "metadata": {},
   "outputs": [],
   "source": [
    "def reduce_dim(X_tr, X_te, n):\n",
    "    svd = TruncatedSVD(n_components=n, n_iter=5, random_state=42)\n",
    "    svd.fit(X_tr)\n",
    "    return svd.transform(X_tr), svd.transform(X_te)\n",
    "\n",
    "def compare_methods(analyzer='word', ngram_range=(1, 1), weight='raw', ndims_keep=1000):\n",
    "    \n",
    "    print('Initializing ...')\n",
    "    if weight == 'raw':\n",
    "        vec = CountVectorizer(input='content', analyzer=analyzer, ngram_range=ngram_range)\n",
    "    if weight == 'tf':\n",
    "        vec = TfidfVectorizer(input='content', analyzer=analyzer, ngram_range=ngram_range, use_idf=False)\n",
    "    elif weight == 'tf-idf':\n",
    "        vec = TfidfVectorizer(input='content', analyzer=analyzer, ngram_range=ngram_range, use_idf=True)\n",
    "        \n",
    "    X = vec.fit_transform(docs)\n",
    "    X_tr, X_te, y_tr, y_te = train_test_split(X, y, test_size=0.2, random_state=42)\n",
    "    if ndims_keep != 'all':\n",
    "        X_tr, X_te = reduce_dim(X_tr, X_te, ndims_keep)\n",
    "        \n",
    "    accuracies, runtimes = [], []\n",
    "    for (method, kwargs) in method_kwargs_list:\n",
    "        print('Running {} ...'.format(method))\n",
    "        y_pred, runtime = classify(X_tr, y_tr, X_te, method, **kwargs)\n",
    "        accuracy = accuracy_score(y_pred, y_te)\n",
    "        accuracies.append(accuracy)\n",
    "        runtimes.append(runtime)\n",
    "        print('    accuracy = {:.4f}'.format(accuracy))\n",
    "        print('    runtime = {:.2f} seconds'.format(runtime))\n",
    "        \n",
    "    return accuracies, runtimes"
   ]
  },
  {
   "cell_type": "code",
   "execution_count": 13,
   "metadata": {},
   "outputs": [
    {
     "name": "stdout",
     "output_type": "stream",
     "text": [
      "Initializing ...\n"
     ]
    },
    {
     "ename": "NameError",
     "evalue": "name 'TruncatedSVD' is not defined",
     "output_type": "error",
     "traceback": [
      "\u001b[0;31m---------------------------------------------------------------------------\u001b[0m",
      "\u001b[0;31mNameError\u001b[0m                                 Traceback (most recent call last)",
      "\u001b[0;32m<ipython-input-13-802ae9f77cb6>\u001b[0m in \u001b[0;36m<module>\u001b[0;34m\u001b[0m\n\u001b[1;32m      4\u001b[0m \u001b[0mweight\u001b[0m \u001b[0;34m=\u001b[0m \u001b[0;34m'tf-idf'\u001b[0m\u001b[0;34m\u001b[0m\u001b[0;34m\u001b[0m\u001b[0m\n\u001b[1;32m      5\u001b[0m \u001b[0;34m\u001b[0m\u001b[0m\n\u001b[0;32m----> 6\u001b[0;31m \u001b[0maccuracies\u001b[0m\u001b[0;34m,\u001b[0m \u001b[0mruntimes\u001b[0m \u001b[0;34m=\u001b[0m \u001b[0mcompare_methods\u001b[0m\u001b[0;34m(\u001b[0m\u001b[0manalyzer\u001b[0m\u001b[0;34m,\u001b[0m \u001b[0mngram_range\u001b[0m\u001b[0;34m,\u001b[0m \u001b[0mweight\u001b[0m\u001b[0;34m,\u001b[0m \u001b[0mndims_keep\u001b[0m\u001b[0;34m)\u001b[0m\u001b[0;34m\u001b[0m\u001b[0;34m\u001b[0m\u001b[0m\n\u001b[0m",
      "\u001b[0;32m<ipython-input-12-d88fd21ede51>\u001b[0m in \u001b[0;36mcompare_methods\u001b[0;34m(analyzer, ngram_range, weight, ndims_keep)\u001b[0m\n\u001b[1;32m     17\u001b[0m     \u001b[0mX_tr\u001b[0m\u001b[0;34m,\u001b[0m \u001b[0mX_te\u001b[0m\u001b[0;34m,\u001b[0m \u001b[0my_tr\u001b[0m\u001b[0;34m,\u001b[0m \u001b[0my_te\u001b[0m \u001b[0;34m=\u001b[0m \u001b[0mtrain_test_split\u001b[0m\u001b[0;34m(\u001b[0m\u001b[0mX\u001b[0m\u001b[0;34m,\u001b[0m \u001b[0my\u001b[0m\u001b[0;34m,\u001b[0m \u001b[0mtest_size\u001b[0m\u001b[0;34m=\u001b[0m\u001b[0;36m0.2\u001b[0m\u001b[0;34m,\u001b[0m \u001b[0mrandom_state\u001b[0m\u001b[0;34m=\u001b[0m\u001b[0;36m42\u001b[0m\u001b[0;34m)\u001b[0m\u001b[0;34m\u001b[0m\u001b[0;34m\u001b[0m\u001b[0m\n\u001b[1;32m     18\u001b[0m     \u001b[0;32mif\u001b[0m \u001b[0mndims_keep\u001b[0m \u001b[0;34m!=\u001b[0m \u001b[0;34m'all'\u001b[0m\u001b[0;34m:\u001b[0m\u001b[0;34m\u001b[0m\u001b[0;34m\u001b[0m\u001b[0m\n\u001b[0;32m---> 19\u001b[0;31m         \u001b[0mX_tr\u001b[0m\u001b[0;34m,\u001b[0m \u001b[0mX_te\u001b[0m \u001b[0;34m=\u001b[0m \u001b[0mreduce_dim\u001b[0m\u001b[0;34m(\u001b[0m\u001b[0mX_tr\u001b[0m\u001b[0;34m,\u001b[0m \u001b[0mX_te\u001b[0m\u001b[0;34m,\u001b[0m \u001b[0mndims_keep\u001b[0m\u001b[0;34m)\u001b[0m\u001b[0;34m\u001b[0m\u001b[0;34m\u001b[0m\u001b[0m\n\u001b[0m\u001b[1;32m     20\u001b[0m \u001b[0;34m\u001b[0m\u001b[0m\n\u001b[1;32m     21\u001b[0m     \u001b[0maccuracies\u001b[0m\u001b[0;34m,\u001b[0m \u001b[0mruntimes\u001b[0m \u001b[0;34m=\u001b[0m \u001b[0;34m[\u001b[0m\u001b[0;34m]\u001b[0m\u001b[0;34m,\u001b[0m \u001b[0;34m[\u001b[0m\u001b[0;34m]\u001b[0m\u001b[0;34m\u001b[0m\u001b[0;34m\u001b[0m\u001b[0m\n",
      "\u001b[0;32m<ipython-input-12-d88fd21ede51>\u001b[0m in \u001b[0;36mreduce_dim\u001b[0;34m(X_tr, X_te, n)\u001b[0m\n\u001b[1;32m      1\u001b[0m \u001b[0;32mdef\u001b[0m \u001b[0mreduce_dim\u001b[0m\u001b[0;34m(\u001b[0m\u001b[0mX_tr\u001b[0m\u001b[0;34m,\u001b[0m \u001b[0mX_te\u001b[0m\u001b[0;34m,\u001b[0m \u001b[0mn\u001b[0m\u001b[0;34m)\u001b[0m\u001b[0;34m:\u001b[0m\u001b[0;34m\u001b[0m\u001b[0;34m\u001b[0m\u001b[0m\n\u001b[0;32m----> 2\u001b[0;31m     \u001b[0msvd\u001b[0m \u001b[0;34m=\u001b[0m \u001b[0mTruncatedSVD\u001b[0m\u001b[0;34m(\u001b[0m\u001b[0mn_components\u001b[0m\u001b[0;34m=\u001b[0m\u001b[0mn\u001b[0m\u001b[0;34m,\u001b[0m \u001b[0mn_iter\u001b[0m\u001b[0;34m=\u001b[0m\u001b[0;36m5\u001b[0m\u001b[0;34m,\u001b[0m \u001b[0mrandom_state\u001b[0m\u001b[0;34m=\u001b[0m\u001b[0;36m42\u001b[0m\u001b[0;34m)\u001b[0m\u001b[0;34m\u001b[0m\u001b[0;34m\u001b[0m\u001b[0m\n\u001b[0m\u001b[1;32m      3\u001b[0m     \u001b[0msvd\u001b[0m\u001b[0;34m.\u001b[0m\u001b[0mfit\u001b[0m\u001b[0;34m(\u001b[0m\u001b[0mX_tr\u001b[0m\u001b[0;34m)\u001b[0m\u001b[0;34m\u001b[0m\u001b[0;34m\u001b[0m\u001b[0m\n\u001b[1;32m      4\u001b[0m     \u001b[0;32mreturn\u001b[0m \u001b[0msvd\u001b[0m\u001b[0;34m.\u001b[0m\u001b[0mtransform\u001b[0m\u001b[0;34m(\u001b[0m\u001b[0mX_tr\u001b[0m\u001b[0;34m)\u001b[0m\u001b[0;34m,\u001b[0m \u001b[0msvd\u001b[0m\u001b[0;34m.\u001b[0m\u001b[0mtransform\u001b[0m\u001b[0;34m(\u001b[0m\u001b[0mX_te\u001b[0m\u001b[0;34m)\u001b[0m\u001b[0;34m\u001b[0m\u001b[0;34m\u001b[0m\u001b[0m\n\u001b[1;32m      5\u001b[0m \u001b[0;34m\u001b[0m\u001b[0m\n",
      "\u001b[0;31mNameError\u001b[0m: name 'TruncatedSVD' is not defined"
     ]
    }
   ],
   "source": [
    "ngram_range = (1, 1)\n",
    "analyzer = 'word'\n",
    "ndims_keep = 5000\n",
    "weight = 'tf-idf'\n",
    "\n",
    "accuracies, runtimes = compare_methods(analyzer, ngram_range, weight, ndims_keep)"
   ]
  },
  {
   "cell_type": "code",
   "execution_count": null,
   "metadata": {},
   "outputs": [],
   "source": [
    "fig, ax = plt.subplots(figsize=(8, 3))\n",
    "ax.bar(methods, accuracies)\n",
    "ax.grid(axis='y', zorder=0)\n",
    "ax.set_title('Method comparison')\n",
    "ax.set_ylabel('Accuracy');"
   ]
  },
  {
   "cell_type": "markdown",
   "metadata": {},
   "source": [
    "# Feature comparison"
   ]
  },
  {
   "cell_type": "code",
   "execution_count": null,
   "metadata": {},
   "outputs": [],
   "source": [
    "ndims_keep = 5000\n",
    "weight = 'tf-idf'\n",
    "accuracies_list = {}\n",
    "runtimes_dict = {}\n",
    "\n",
    "for n in range(1, 7):\n",
    "    if n == 1:\n",
    "        analyzer == 'word'\n",
    "        key = 'word'\n",
    "    else:\n",
    "        analyzer == 'char'\n",
    "        key = 'n{}'.format(n)\n",
    "    print(key)\n",
    "    accuracies, runtimes = compare_methods(analyzer, (n, n), weight, ndims_keep)\n",
    "    accuracies_dict[key] = accuracies\n",
    "    runtimes_dict[key] = runtimes\n",
    "    print()"
   ]
  },
  {
   "cell_type": "code",
   "execution_count": null,
   "metadata": {},
   "outputs": [],
   "source": [
    "accuracies_by_method = []\n",
    "keys = list(accuracies_dict.keys())\n",
    "\n",
    "fig, ax = plt.subplots()\n",
    "for i, method in enumerate(methods):\n",
    "    accs_by_method = [accuracies_dict[k][i] for k in accuracies_dict.keys()]\n",
    "    ax.plot(keys, accs_by_method, 'o-', label=method)\n",
    "ax.legend(framealpha=1)\n",
    "ax.grid(axis='x')\n",
    "ax.set_ylabel('Accuracy')\n",
    "ax.set_xlabel('Feature type')\n",
    "ax.set_title('Accuracy vs. feature type');"
   ]
  },
  {
   "cell_type": "markdown",
   "metadata": {},
   "source": [
    "# Effect of dimensionality reduction\n",
    "Plot the accuracy vs. number of dimensions kept for the different feature types. Should have 6 lines corresponding to word, n2, n3, n4, n5, n6. Similar to the above plot but with number of dimensions on the x axis and feature type in the legend."
   ]
  },
  {
   "cell_type": "code",
   "execution_count": null,
   "metadata": {},
   "outputs": [],
   "source": []
  },
  {
   "cell_type": "markdown",
   "metadata": {},
   "source": [
    "# KNN: accuracy vs $k$"
   ]
  },
  {
   "cell_type": "code",
   "execution_count": null,
   "metadata": {},
   "outputs": [],
   "source": [
    "k_vals = [10, 100, 200, 300, 400, 500, 600, 700, 800, 900, 1000]\n",
    "ndims_keep = 20000\n",
    "accuracies, runtimes = [], []\n",
    "\n",
    "vec = TfidfVectorizer(input='content', analyzer=analyzer, ngram_range=ngram_range, use_idf=True)\n",
    "X = vec.fit_transform(docs)\n",
    "X = SelectKBest(chi2, k=ndims_keep).fit_transform(X, y)\n",
    "X_train, X_test, y_train, y_test = train_test_split(X, y, test_size=0.2, random_state=42)\n",
    "\n",
    "for k in tqdm(k_vals):\n",
    "    y_pred, runtime = classify(X_train, y_train, X_test, 'knn', n_neighbors=k)\n",
    "    accuracy = accuracy_score(y_pred, y_test)\n",
    "    accuracies.append(accuracy)\n",
    "    runtimes.append(runtime)"
   ]
  },
  {
   "cell_type": "code",
   "execution_count": null,
   "metadata": {},
   "outputs": [],
   "source": [
    "fig, ax = plt.subplots()\n",
    "ax.plot(k_vals, accuracies, 'o')\n",
    "ax.set_ylabel('Accuracy')\n",
    "ax.set_xlabel('k')\n",
    "ax.set_title(r'KNN accuracy vs. $k$')"
   ]
  }
 ],
 "metadata": {
  "kernelspec": {
   "display_name": "Python 3",
   "language": "python",
   "name": "python3"
  },
  "language_info": {
   "codemirror_mode": {
    "name": "ipython",
    "version": 3
   },
   "file_extension": ".py",
   "mimetype": "text/x-python",
   "name": "python",
   "nbconvert_exporter": "python",
   "pygments_lexer": "ipython3",
   "version": "3.8.3"
  }
 },
 "nbformat": 4,
 "nbformat_minor": 4
}
