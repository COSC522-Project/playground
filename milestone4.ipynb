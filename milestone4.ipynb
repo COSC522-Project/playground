{
 "cells": [
  {
   "cell_type": "markdown",
   "metadata": {},
   "source": [
    "# Project Milestone 4: Preliminary Results"
   ]
  },
  {
   "cell_type": "markdown",
   "metadata": {},
   "source": [
    "## Imports "
   ]
  },
  {
   "cell_type": "code",
   "execution_count": 2,
   "metadata": {},
   "outputs": [],
   "source": [
    "import numpy as np\n",
    "import pandas as pd\n",
    "import matplotlib.pyplot as plt\n",
    "\n",
    "import sklearn\n",
    "from sklearn import preprocessing, svm\n",
    "from sklearn.feature_extraction.text import CountVectorizer, TfidfVectorizer\n",
    "from sklearn.feature_selection import mutual_info_classif, SelectKBest, chi2\n",
    "from sklearn.decomposition import TruncatedSVD\n",
    "from sklearn.discriminant_analysis import LinearDiscriminantAnalysis\n",
    "from sklearn.model_selection import train_test_split, cross_val_score\n",
    "from sklearn.metrics import accuracy_score, confusion_matrix\n",
    "from sklearn.pipeline import Pipeline"
   ]
  },
  {
   "cell_type": "markdown",
   "metadata": {},
   "source": [
    "## Feature extraction "
   ]
  },
  {
   "cell_type": "markdown",
   "metadata": {},
   "source": [
    "Load the data."
   ]
  },
  {
   "cell_type": "code",
   "execution_count": 30,
   "metadata": {},
   "outputs": [
    {
     "data": {
      "image/png": "[encoded data removed]",
      "text/plain": [
       "<Figure size 864x216 with 1 Axes>"
      ]
     },
     "metadata": {
      "needs_background": "light"
     },
     "output_type": "display_data"
    }
   ],
   "source": [
    "data = pd.read_csv('mbti_1.csv')\n",
    "\n",
    "fig, ax = plt.subplots(tight_layout=True)\n",
    "ax = data['type'].hist(figsize=(12, 3), bins=np.arange(16)-0.5, \n",
    "                       ec='k', color='tab:pink', grid=False, ax=ax)\n",
    "ax.set_xlabel('Personality type', fontsize='large')\n",
    "ax.set_ylabel('Counts', fontsize='large')\n",
    "ax.set_title('Personality type distribution', fontsize='large')\n",
    "plt.savefig('figures/personality_type_dist.png', dpi=300)"
   ]
  },
  {
   "cell_type": "code",
   "execution_count": 57,
   "metadata": {},
   "outputs": [
    {
     "data": {
      "image/png": "[encoded data removed]",
      "text/plain": [
       "<Figure size 432x288 with 1 Axes>"
      ]
     },
     "metadata": {
      "needs_background": "light"
     },
     "output_type": "display_data"
    }
   ],
   "source": [
    "mean_comment_lengths = []\n",
    "for i in range(data.shape[0]):\n",
    "    comments = data.loc[i, 'posts'].split('|||')\n",
    "    mean_coment_length = np.mean([len(comment.split(' ')) for comment in comments])\n",
    "    mean_comment_lengths.append(mean_coment_length)\n",
    "    \n",
    "fig, ax = plt.subplots(tight_layout=True)\n",
    "ax.hist(mean_comment_lengths, bins='auto')\n",
    "ax.set_ylabel('Counts', fontsize='large')\n",
    "ax.set_xlabel('Average word length of comments', fontsize='large')\n",
    "plt.savefig('figures/comment_length_dist.png', dpi=300)"
   ]
  },
  {
   "cell_type": "markdown",
   "metadata": {},
   "source": [
    "Change to integer feature labels."
   ]
  },
  {
   "cell_type": "code",
   "execution_count": 9,
   "metadata": {},
   "outputs": [
    {
     "data": {
      "text/html": [
       "<div>\n",
       "<style scoped>\n",
       "    .dataframe tbody tr th:only-of-type {\n",
       "        vertical-align: middle;\n",
       "    }\n",
       "\n",
       "    .dataframe tbody tr th {\n",
       "        vertical-align: top;\n",
       "    }\n",
       "\n",
       "    .dataframe thead th {\n",
       "        text-align: right;\n",
       "    }\n",
       "</style>\n",
       "<table border=\"1\" class=\"dataframe\">\n",
       "  <thead>\n",
       "    <tr style=\"text-align: right;\">\n",
       "      <th></th>\n",
       "      <th>type</th>\n",
       "      <th>posts</th>\n",
       "    </tr>\n",
       "  </thead>\n",
       "  <tbody>\n",
       "    <tr>\n",
       "      <th>0</th>\n",
       "      <td>0</td>\n",
       "      <td>'http://www.youtube.com/watch?v=qsXHcwe3krw|||...</td>\n",
       "    </tr>\n",
       "    <tr>\n",
       "      <th>1</th>\n",
       "      <td>1</td>\n",
       "      <td>'I'm finding the lack of me in these posts ver...</td>\n",
       "    </tr>\n",
       "    <tr>\n",
       "      <th>2</th>\n",
       "      <td>2</td>\n",
       "      <td>'Good one  _____   https://www.youtube.com/wat...</td>\n",
       "    </tr>\n",
       "    <tr>\n",
       "      <th>3</th>\n",
       "      <td>3</td>\n",
       "      <td>'Dear INTP,   I enjoyed our conversation the o...</td>\n",
       "    </tr>\n",
       "    <tr>\n",
       "      <th>4</th>\n",
       "      <td>4</td>\n",
       "      <td>'You're fired.|||That's another silly misconce...</td>\n",
       "    </tr>\n",
       "  </tbody>\n",
       "</table>\n",
       "</div>"
      ],
      "text/plain": [
       "   type                                              posts\n",
       "0     0  'http://www.youtube.com/watch?v=qsXHcwe3krw|||...\n",
       "1     1  'I'm finding the lack of me in these posts ver...\n",
       "2     2  'Good one  _____   https://www.youtube.com/wat...\n",
       "3     3  'Dear INTP,   I enjoyed our conversation the o...\n",
       "4     4  'You're fired.|||That's another silly misconce..."
      ]
     },
     "execution_count": 9,
     "metadata": {},
     "output_type": "execute_result"
    }
   ],
   "source": [
    "data = data.replace({c: i for i, c in enumerate(pd.unique(data['type']))})\n",
    "data.head()"
   ]
  },
  {
   "cell_type": "markdown",
   "metadata": {},
   "source": [
    "Create feature matrix of raw word frequencies."
   ]
  },
  {
   "cell_type": "code",
   "execution_count": 12,
   "metadata": {},
   "outputs": [
    {
     "name": "stdout",
     "output_type": "stream",
     "text": [
      "n_classes = 8675\n",
      "n_features = 145412\n"
     ]
    }
   ],
   "source": [
    "vectorizer = CountVectorizer(input='content')\n",
    "X = vectorizer.fit_transform(list(data['posts']))\n",
    "y = data['type'].values\n",
    "\n",
    "print('n_classes =', X.shape[0])\n",
    "print('n_features =', X.shape[1])"
   ]
  },
  {
   "cell_type": "markdown",
   "metadata": {},
   "source": [
    "View the most frequent words."
   ]
  },
  {
   "cell_type": "code",
   "execution_count": 29,
   "metadata": {},
   "outputs": [
    {
     "data": {
      "text/plain": [
       "[('http', 67533),\n",
       " ('www', 140824),\n",
       " ('youtube', 143422),\n",
       " ('com', 37726),\n",
       " ('watch', 137735),\n",
       " ('qsxhcwe3krw', 105905),\n",
       " ('41', 8711),\n",
       " ('media', 85605),\n",
       " ('tumblr', 129774),\n",
       " ('tumblr_lfouy03pma1qa1rooo1_500', 129891)]"
      ]
     },
     "execution_count": 29,
     "metadata": {},
     "output_type": "execute_result"
    }
   ],
   "source": [
    "word_freq_list = list(vectorizer.vocabulary_.items())\n",
    "sorted_word_freq_list = sorted(word_freq_list, key=lambda x: x[1], reverse=True)\n",
    "\n",
    "word_freq_list[:10]"
   ]
  },
  {
   "cell_type": "markdown",
   "metadata": {},
   "source": [
    "Split into testing and training."
   ]
  },
  {
   "cell_type": "code",
   "execution_count": 4,
   "metadata": {},
   "outputs": [
    {
     "name": "stdout",
     "output_type": "stream",
     "text": [
      "Training samples: 6940\n",
      "Testing samples: 1735\n"
     ]
    }
   ],
   "source": [
    "X_train, X_test, y_train, y_test = train_test_split(X, y, test_size=0.2, random_state=42)\n",
    "print('Training samples: {}'.format(len(y_train)))\n",
    "print('Testing samples: {}'.format(len(y_test)))"
   ]
  },
  {
   "cell_type": "markdown",
   "metadata": {},
   "source": [
    "### Feature selection\n",
    "See https://scikit-learn.org/stable/modules/classes.html#module-sklearn.feature_selection. For example, we could use `mutual_info_classif` with `SelectKBest` to keep the $K$ best features according to their mutual information score. Or could do something else for now like PCA.\n",
    "\n",
    "Select a dimensionality reduction technique below. Run only that section of cells. Then split into testing/training sets before running classification."
   ]
  },
  {
   "cell_type": "markdown",
   "metadata": {},
   "source": [
    "#### Mutual Information"
   ]
  },
  {
   "cell_type": "code",
   "execution_count": 5,
   "metadata": {},
   "outputs": [
    {
     "data": {
      "text/plain": [
       "array([4.63581620e-03, 4.02814192e-03, 5.26090599e-04, ...,\n",
       "       2.98372438e-16, 2.77634655e-04, 2.94722181e-04])"
      ]
     },
     "execution_count": 5,
     "metadata": {},
     "output_type": "execute_result"
    }
   ],
   "source": [
    "m_info_scores = mutual_info_classif(X_train, y_train)\n",
    "m_info_scores"
   ]
  },
  {
   "cell_type": "markdown",
   "metadata": {},
   "source": [
    "The mutual info scores are relatively very low. There are only 6 features with a score greater than 0.1, 381 features with a score greater than 0.01, and 19037 features with a score greater than 0.001. The last threshold represents about 13% of the features, so I think that's a good starting point."
   ]
  },
  {
   "cell_type": "code",
   "execution_count": 6,
   "metadata": {},
   "outputs": [
    {
     "name": "stdout",
     "output_type": "stream",
     "text": [
      "19037\n",
      "(8675, 19037)\n"
     ]
    }
   ],
   "source": [
    " k_num = np.count_nonzero(m_info_scores > 0.001)\n",
    " print(k_num)\n",
    " X_new = SelectKBest(chi2, k=k_num).fit_transform(X, y)\n",
    " print(X_new.shape)"
   ]
  },
  {
   "cell_type": "markdown",
   "metadata": {},
   "source": [
    "#### PCA / Truncated Singular Value Decomp\n",
    "X matrix is sparse but dense so PCA and SparsePCA does not work, needed to use TruncatedSVD\n",
    "\n",
    "Found that 500 features explains above 86.7% of the variance. We can easily automate this to find some preferred error rate. "
   ]
  },
  {
   "cell_type": "code",
   "execution_count": 7,
   "metadata": {},
   "outputs": [
    {
     "name": "stdout",
     "output_type": "stream",
     "text": [
      "(8675, 500)\n",
      "0.8670950171056562\n"
     ]
    }
   ],
   "source": [
    "pca = TruncatedSVD(n_components=500, n_iter=10, random_state=42)\n",
    "X_new = pca.fit_transform(X, y)\n",
    "print(X_new.shape)\n",
    "print(pca.explained_variance_ratio_.sum())"
   ]
  },
  {
   "cell_type": "markdown",
   "metadata": {},
   "source": [
    "Re-split into testing and training after reducing dimensionality."
   ]
  },
  {
   "cell_type": "code",
   "execution_count": 8,
   "metadata": {},
   "outputs": [
    {
     "name": "stdout",
     "output_type": "stream",
     "text": [
      "Training samples: 6940\n",
      "Testing samples: 1735\n"
     ]
    }
   ],
   "source": [
    "X_train, X_test, y_train, y_test = train_test_split(X_new, y, test_size=0.2, random_state=42)\n",
    "print('Training samples: {}'.format(len(y_train)))\n",
    "print('Testing samples: {}'.format(len(y_test)))"
   ]
  },
  {
   "cell_type": "markdown",
   "metadata": {},
   "source": [
    "## Classification"
   ]
  },
  {
   "cell_type": "markdown",
   "metadata": {},
   "source": [
    "Random guessing."
   ]
  },
  {
   "cell_type": "code",
   "execution_count": 9,
   "metadata": {},
   "outputs": [
    {
     "name": "stdout",
     "output_type": "stream",
     "text": [
      "Accuracy = 0.06\n"
     ]
    }
   ],
   "source": [
    "y_pred = np.random.randint(0, 16, size=y_test.shape)\n",
    "print('Accuracy = {:.2f}'.format(accuracy_score(y_test, y_pred)))"
   ]
  },
  {
   "cell_type": "markdown",
   "metadata": {},
   "source": [
    "Support vector machine (linear kernel).\n",
    "I assume we'll get better results ith TF-IDF vectors but do we need that for this step?"
   ]
  },
  {
   "cell_type": "code",
   "execution_count": 17,
   "metadata": {},
   "outputs": [],
   "source": [
    "# clf = svm.LinearSVC()\n",
    "clf = svm.SVC(kernel='linear', C=1)\n",
    "clf.fit(X_train, y_train)\n",
    "y_pred_lin = clf.predict(X_test)"
   ]
  },
  {
   "cell_type": "markdown",
   "metadata": {},
   "source": [
    "SVM polynomial kernel"
   ]
  },
  {
   "cell_type": "code",
   "execution_count": 26,
   "metadata": {},
   "outputs": [],
   "source": [
    "clf = svm.SVC(kernel='poly', C=1, gamma='auto')\n",
    "clf.fit(X_train, y_train)\n",
    "y_pred_pol = clf.predict(X_test)"
   ]
  },
  {
   "cell_type": "markdown",
   "metadata": {},
   "source": [
    "## Performance evalutation\n",
    "I suppose we should use $k$-fold cross validation.\n",
    "\n",
    "Accuracy and cross validation scores vary across runs.\n",
    "Comparison of linear and polynmomial kernels may not be valid\n",
    "for these singular run results."
   ]
  },
  {
   "cell_type": "code",
   "execution_count": 18,
   "metadata": {},
   "outputs": [
    {
     "name": "stdout",
     "output_type": "stream",
     "text": [
      "Accuracy = 0.55\n"
     ]
    }
   ],
   "source": [
    "print('Accuracy = {:.2f}'.format(accuracy_score(y_test, y_pred_lin)))"
   ]
  },
  {
   "cell_type": "code",
   "execution_count": null,
   "metadata": {},
   "outputs": [],
   "source": [
    "print('Accuracy = {:.2f}'.format(accuracy_score(y_test, y_pred_pol)))"
   ]
  },
  {
   "cell_type": "markdown",
   "metadata": {},
   "source": [
    "$k$-fold cross validation SVM linear kernel"
   ]
  },
  {
   "cell_type": "code",
   "execution_count": 25,
   "metadata": {},
   "outputs": [
    {
     "name": "stdout",
     "output_type": "stream",
     "text": [
      "Accuracy: 0.55 (+/- 0.02)\n"
     ]
    }
   ],
   "source": [
    "clf = svm.SVC(kernel='linear', C=1)\n",
    "scores = cross_val_score(clf, X_train, y_train, cv=10)\n",
    "print(\"Accuracy: %0.2f (+/- %0.2f)\" % (scores.mean(), scores.std() * 2))\n"
   ]
  },
  {
   "cell_type": "markdown",
   "metadata": {},
   "source": [
    "$k$-fold cross validation ploynomial kernel"
   ]
  },
  {
   "cell_type": "code",
   "execution_count": 24,
   "metadata": {},
   "outputs": [
    {
     "name": "stdout",
     "output_type": "stream",
     "text": [
      "Accuracy: 0.47 (+/- 0.04)\n"
     ]
    }
   ],
   "source": [
    "scores = cross_val_score(clf, X_train, y_train, cv=10)\n",
    "print(\"Accuracy: %0.2f (+/- %0.2f)\" % (scores.mean(), scores.std() * 2))"
   ]
  }
 ],
 "metadata": {
  "kernelspec": {
   "display_name": "Python 3",
   "language": "python",
   "name": "python3"
  },
  "language_info": {
   "codemirror_mode": {
    "name": "ipython",
    "version": 3
   },
   "file_extension": ".py",
   "mimetype": "text/x-python",
   "name": "python",
   "nbconvert_exporter": "python",
   "pygments_lexer": "ipython3",
   "version": "3.8.3"
  }
 },
 "nbformat": 4,
 "nbformat_minor": 4
}
